{
 "cells": [
  {
   "attachments": {},
   "cell_type": "markdown",
   "metadata": {},
   "source": [
    "# Algorytmy Genetyczne i sztuczne sieci neuronowe\n",
    "\n",
    "## Budowanie generatora do testowania sieci WTM (ang. SOM (Self-organizing map))\n",
    "\n",
    "Specyfikacja dotycząca generatora:\n",
    "<ul>\n",
    "<li>Liczba grup danych = 5</li>\n",
    "<li>Rozmiar danych = 2D</li>\n",
    "<li>Zakres danych [0:100 ; 0:100]</li>\n",
    "<li>Liczba obiektów w danej grupie danych = 10</li>\n",
    "<li>Promień każdej grupy = 5</li>\n",
    "</ul>\n",
    "\n",
    "Przykładowy wykres wygenerowanych danych poniżej:\n",
    "\n",
    "<img src=\"WTM_model_example.png\"> \n",
    "\n",
    "<font color='red'> UWAGA!!!:</font> Wyświetlanie danych powinno być znormalizowane do zapisu np. [72, 10; ...]. Każda współrzędna kolejna poprzedzona speratorem ,, ; ''\n",
    "\n",
    "<font color='yellow'> PS: Mieszanie danych podczas uczenia np. w przypadku alfabetu uczenie (a,b,c,d,...), potem uczenie od (g,h,i,j,...). Różne  możliwości????</font>"
   ]
  },
  {
   "attachments": {},
   "cell_type": "markdown",
   "metadata": {},
   "source": [
    "### Importowanie potrzebnych bibliotek"
   ]
  },
  {
   "cell_type": "code",
   "execution_count": 179,
   "metadata": {},
   "outputs": [],
   "source": [
    "import pandas as pd\n",
    "import matplotlib.pyplot as plt\n",
    "import numpy as np\n",
    "import random\n",
    "import math\n",
    "import csv"
   ]
  },
  {
   "attachments": {},
   "cell_type": "markdown",
   "metadata": {},
   "source": [
    "### Zmienne potrzebne do wygenerowania danych\n",
    "<ul>\n",
    "<li>number_of_groups - mienna określająca ilość grup danych</li>\n",
    "<li>radius  - zmienna określająca promień okręgu, który posłużyć ma nam jako obszar generowanych obiektów danych</li>\n",
    "<li>number_of_object - zmienna mówiąca o ilości obiektów jakie muszą być wygenerowane w określonej grupie danych </li>\n",
    "</ul>"
   ]
  },
  {
   "cell_type": "code",
   "execution_count": 180,
   "metadata": {},
   "outputs": [],
   "source": [
    "number_of_groups = 10    #Number of groups in model\n",
    "radius = 5              #Circle radius\n",
    "number_of_object = 10   #Number of object in each group"
   ]
  },
  {
   "attachments": {},
   "cell_type": "markdown",
   "metadata": {},
   "source": [
    "### Proces generowania koordynatów dla konkretnych grup\n",
    "- za pomocą funkcji <font color='yellow'>,,zeros\"</font> zawartej w bibliotece numpy generowana jest tablica 2D wypełniona zerami, która potem będzie wykorzystana do zapisu koordynatów poszczególnych wygenerowanych grup,\n",
    "- funkcja <font color='yellow'>,,coordinate_generator_group(lst_groups)\"</font> przekazuje w argumencie stworzoną wcześniej tablice 2D wypełnioną zerami. Następnie poprzez pętle for przechodzimy po poszczególnych elementach tablicy zapisując w niej wygenerowane punkty x i y w odpowiednim zakresie od 0 do 100. Zapis danych jest poprzez <font color='yellow'>,,element[0] & element[1]\"</font>, które zapisują koordynaty w konkretnych miejscach podtablicy.\n",
    "- wykorzystując bibliotekę pandas jesteśmy w stanie zapisać dane x i y w dwuwymiarowej strukturze danych, które oznaczone są rzędami i kolumnami. Pełni to funkcję przejrzystego wglądu do generowanych danych."
   ]
  },
  {
   "cell_type": "code",
   "execution_count": 181,
   "metadata": {},
   "outputs": [],
   "source": [
    "def coordinate_generator_group(temp_lst):\n",
    "    for element in temp_lst:\n",
    "        temp_x_point = random.randint(0,100)    #Generate x and y coordinate for specific group\n",
    "        temp_y_point = random.randint(0,100)    \n",
    "        element[0] = temp_x_point               #Save points in list\n",
    "        element[1] = temp_y_point"
   ]
  },
  {
   "cell_type": "code",
   "execution_count": 182,
   "metadata": {},
   "outputs": [
    {
     "name": "stdout",
     "output_type": "stream",
     "text": [
      "      x     y\n",
      "0  32.0  48.0\n",
      "1  80.0  14.0\n",
      "2  86.0  33.0\n",
      "3   6.0  91.0\n",
      "4  39.0  14.0\n",
      "5  88.0  50.0\n",
      "6  52.0  59.0\n",
      "7  69.0  16.0\n",
      "8  36.0  22.0\n",
      "9  16.0   8.0\n"
     ]
    }
   ],
   "source": [
    "lst_groups = np.zeros((number_of_groups,2))    #Create a list of groups coordinates\n",
    "\n",
    "coordinate_generator_group(lst_groups)    #Function to generate coordinates for groups\n",
    "\n",
    "groups = pd.DataFrame(lst_groups, columns =['x', 'y'])        #Load data groups in DataFrame object\n",
    "print(groups)"
   ]
  },
  {
   "attachments": {},
   "cell_type": "markdown",
   "metadata": {},
   "source": [
    "### Proces generowania koordynatów do obiektów konkretnych grup danych\n",
    "- za pomocą wcześniej wspomnianej funkcji <font color=yellow>,,zeros\"</font> generowana jest tablica 2D wypełniona zerami,\n",
    "- wspomniana wyżej tablica nadpisywana jest poprzez wywołaną funkcję <font color=yellow>,,coordinate_generator_object(lst_objects)\"</font>. W funkcji na początku został stworzony <font color=yellow>counter</font>, który pomoże podczas identyfkacji danego elementu w tablicy <font color=yellow>temp_lst</font>, która zawiera <font color=yellow>number_of_object*number_of_groups</font> elemenetów. Pierwszy człon pętli iteruje po elementach tablicy zawierającej koordynaty grup, następny człon natomiast będzie generował ilość punktów w grupie zdefiniowanej w zmiennej <font color=yellow>number_of_object</font>. Następnie przy pomocy wzorów na ogrąg generowane są punkty pod konkretnym kątem w okręgu, który jest grupą oraz zapisywane są w zmiennych <font color=yellow>temp_x</font> oraz <font color=yellow>temp_y</font>. Wygenerowane wcześniej koordynaty umieszczane są w konkretnych elementach tablicy jaki wskazuje nam zmienna <font color=yellow>coutner</font>. Na koniec zwracana jest tablica wraz z zapisanymi koordynatami.\n",
    "- rownież z wykorzystaniem biblioteki pandas jesteśmy w sposób przejrzysty wyświetlić oraz manipulować danaymi."
   ]
  },
  {
   "cell_type": "code",
   "execution_count": 183,
   "metadata": {},
   "outputs": [],
   "source": [
    "def coordinate_generator_object(temp_lst):\n",
    "    counter = 0                                                     #counter elements in array temp_lst\n",
    "    for elements_lst_groups in lst_groups:\n",
    "        for _ in range(number_of_object):\n",
    "            r = radius * random.random()\n",
    "            theta = 2 * math.pi *random.random()\n",
    "\n",
    "            temp_x = elements_lst_groups[0] + r * math.cos(theta)   #Generate x and y coordinate for specific group\n",
    "            temp_y = elements_lst_groups[1] + r * math.sin(theta)\n",
    "\n",
    "            #print('x', temp_x, 'y', temp_y)\n",
    "            temp_lst[counter][0] = temp_x\n",
    "            temp_lst[counter][1] = temp_y\n",
    "            counter+=1\n",
    "    \n",
    "    return temp_lst"
   ]
  },
  {
   "cell_type": "code",
   "execution_count": 184,
   "metadata": {},
   "outputs": [
    {
     "name": "stdout",
     "output_type": "stream",
     "text": [
      "            x          y\n",
      "0   29.254474  45.016569\n",
      "1   31.953916  44.367767\n",
      "2   31.500875  44.559562\n",
      "3   31.403806  50.558723\n",
      "4   32.876976  48.540401\n",
      "..        ...        ...\n",
      "95  13.565500   4.541782\n",
      "96  15.966534   7.874254\n",
      "97  16.172570   7.968936\n",
      "98  18.608763  10.536533\n",
      "99  17.072063  12.432909\n",
      "\n",
      "[100 rows x 2 columns]\n"
     ]
    }
   ],
   "source": [
    "lst_objects = np.zeros((number_of_object*number_of_groups, 2))     #list of object which contain x, y coordinate\n",
    "\n",
    "lst_objects = coordinate_generator_object(lst_objects)\n",
    "\n",
    "objects = pd.DataFrame(lst_objects, columns =['x', 'y'])        #Load data groups in DataFrame object\n",
    "print(objects)"
   ]
  },
  {
   "attachments": {},
   "cell_type": "markdown",
   "metadata": {},
   "source": [
    "### Proces wyświetlania wygenerowanych danych na diagramie z użyciem biblioteki matplotlib\n",
    "- Funkcja <font color=yellow>createCircles(item, radius)</font>, do której przekazywane są konkretne koordynaty wygenerowanych grup danych oraz promień koła wykorzystywane są do określenia środka oraz promienia rysowanego okręgu. "
   ]
  },
  {
   "cell_type": "code",
   "execution_count": 185,
   "metadata": {},
   "outputs": [],
   "source": [
    "def  createCircles(centre, radius):\n",
    "    return plt.Circle((centre[0], centre[1]), radius, color='b', fill=False)"
   ]
  },
  {
   "cell_type": "code",
   "execution_count": 186,
   "metadata": {},
   "outputs": [
    {
     "name": "stdout",
     "output_type": "stream",
     "text": [
      "10\n"
     ]
    },
    {
     "data": {
      "image/png": "[encoded data removed]",
      "text/plain": [
       "<Figure size 1080x1080 with 1 Axes>"
      ]
     },
     "metadata": {
      "needs_background": "light"
     },
     "output_type": "display_data"
    }
   ],
   "source": [
    "# Creating a new figure \n",
    "fig, ax = plt.subplots(figsize=(15,15))\n",
    "\n",
    "# Numpy array as scatter plot\n",
    "plt.scatter(x=groups['x'],y=groups['y'])\n",
    "plt.scatter(x=objects['x'],y=objects['y'], color= '#f54272')\n",
    "\n",
    "print(len(lst_groups))\n",
    "\n",
    "for item in lst_groups:\n",
    "    ax.add_patch(createCircles(item, radius))\n",
    "\n",
    "# Adding details to the plot\n",
    "plt.title('Wykres generowanych grup i obiektów')\n",
    "plt.xlabel('x-axis')\n",
    "plt.ylabel('y-axis')\n",
    "\n",
    "# Displaying the plot\n",
    "plt.xlim(0,100)\n",
    "plt.ylim(0,100)\n",
    "plt.grid()\n",
    "plt.show()"
   ]
  },
  {
   "attachments": {},
   "cell_type": "markdown",
   "metadata": {},
   "source": [
    "### Zapisywanie danych do pliku w celu wczytania go w programie Kohenen\n",
    "Mean quantization error = 9.9677, topographic error = 0.96364"
   ]
  },
  {
   "cell_type": "code",
   "execution_count": 187,
   "metadata": {},
   "outputs": [],
   "source": [
    "with open('data_10_temp.dat', 'w', newline='') as f:\n",
    "    csv.writer(f, delimiter=' ').writerows(lst_groups)\n",
    "    csv.writer(f, delimiter=' ').writerows(lst_objects)"
   ]
  },
  {
   "attachments": {},
   "cell_type": "markdown",
   "metadata": {},
   "source": [
    "## Teoria sieci oraz analiza danych wprowadzonych w programie Kohenen"
   ]
  },
  {
   "attachments": {},
   "cell_type": "markdown",
   "metadata": {},
   "source": [
    "### Neuronowa sieć Kohenena\n",
    "Jest najbardziej znaną i do tego wykorzystywaną siecią samouczącą się, która realizuje zasadę samoorganizacji (SOM). Jest to także najbardziej znany przykład sieci konkurencyjnej wykorzystującej koncepcję sąsiedztwa. W wyniku uczenia powstaje mapa topologiczna, której aprioryczna interpretacja jest niemożliwa, ponieważ sieć uczy się bez nauczyciela oraz użytkownik nie jest w stanie kontrolować tego, co się robi. Natomiast po uczeniu jesteśmy w stanie ustalić jakie poszczególne rejony mapy majją znaczenie na podstawie analizy danych wejściowych. Poniższy rysunek przedstawia strukturę sieci Kohonena, gdzie ma on nakreślić koncepcyjną strukturę schematu, bowiem rzeczywiste sieci Kohonena cechują się tym, że działają w wielowymiarowych przestrzeniach danych wejściowych, w związku z czym warstwa wejściowa zawiere bardzo wiele neuronów (skojarzonych z wieloma sygnałami wejściowymi). Typowa warstwa topologiczna zawiera również bardzo wiele neuronów, dzięki czemu sieć po nauczeniu może prezentować bardzo subtelnie rozróżnienia i klasyfikacje dancyh wejściowych.\n",
    "\n",
    "<img src=\"screeny/Kohonen_network_schema.png\"> \n",
    "\n",
    "### Konkurencyjna sieć neuronowa\n",
    "\n",
    "W niektórych sieciach neuronowych wśród neuronów warstwy wyjściowej lub mapy topologicznej wprowadza mechanizm konkurencji, polegający na tym, że sygnały wyjściowe tych neuronów porównuje się ze sobą. Po podaniu określonego sygnału wyjściowego do sieci - na jej wyjściu otrzymuje się sygnały o różnych wartościach pochodzące od różnych neuronów warstwy wyjściowej lub warstwy topologicznej. Wśród tych sygnałów odnajduje się ten, który ma największą wartość i ten neuron zostaje wskazany jako zwycięzca (patrz rysunek). Z faktu, że określony neuron został uznany za zwycięzcę, wynikają różne konsekwencje. W szczególności w niektórych sieciach na etapie uczenia zmiany wag dotyczą wyłącznie zwycięzcy oraz (niekiedy) jego sąsiedztwa. W sieciach klasyfikacyjnych zwycięski neuron wskazuje poprawną kategoryzację sygnału wejściowego lub poprawne rozpoznanie obiektu reprezentowanego przez ten sygnał.\n",
    "\n",
    "<img src=\"screeny/concept_winner.png\"> \n",
    "\n",
    "### Korekcja błędu\n",
    "Zmiana wartości parametrów sieci (najczęściej wag) mająca na celu zmniejszenie błędu popełnianego przez sieć. Ponieważ błąd wyznaczany jest podczas jednego kroku procesu uczenia, przeto korekta błędu nie może być zbyt radykalna, bo łatwo jest doprowadzić do sytuacji, w której zmiana parametrów wynikająca z pokazania jednego przypadku uczącego ze zbioru uczącego może popsuć wartości parametrów ustalone wcześniej dla innych przypadków uczących. W praktyce wielkość korekty błędu determinuje współczynnik uczenia. Przebieg typowej korekty błędu przedstawia poniższy schemat.\n",
    "\n",
    "<img src=\"screeny/corection_fault.png\"> \n",
    "\n",
    "### Mapa topologiczna\n",
    "W sieci Kohonena ta warstwa, na której prezentowany jest wynik działania sieci, nazywana jest warstwą topologiczną. Neurony należące do tej warstwy specjalizują się w identyfikowaniu poszczególnych obiektów, jakie w trakcie procesu samouczenia były sieci prezentowane na jej wejściu. Każdy neuron warstwy topologicznej ma więc przypisany do siebie obiekt, którego pojawienie się na wejściu sieci powoduje, że ten właśnie neuron zostaje\n",
    "zwycięzcą (patrz hasło Konkurencyjna sieć neuronowa). Rozmieszczenie tych obiektów formuje właśnie mapę topologiczną, pokazaną symbolicznie na rysunku. Znajomość mapy topologicznej ułatwia użytkownikowi interpretację i wykorzystanie wyników obliczeń dostarczanych przez sieć Kohonena.\n",
    "\n",
    "<img src=\"screeny/topology_map.png\"> \n",
    "\n",
    "### Przykłady algorytmów\n",
    "#### WTA (Winner take all)\n",
    "Algorytm WTA (Winner Takes All) to jeden z podstawowych algorytmów stosowanych w sieciach neuronowych typu Kohonena, które służą do grupowania danych wejściowych na podstawie podobieństwa. Algorytm ten wykorzystuje konkurencyjną regułę uczenia, która pozwala na wyłonienie zwycięzcy w procesie klasyfikacji.\n",
    "\n",
    "Algorytm WTA składa się z trzech etapów:\n",
    "\n",
    "1. Inicjalizacja - losowo inicjuje się położenie neuronów w przestrzeni wejściowej i przypisuje im losowe wagi.\n",
    "2. Konkurencja - neuron, który jest najbliżej aktualnie prezentowanego wektora wejściowego jest uznawany za zwycięzcę. To właśnie on jest aktywowany, a jego wagi są modyfikowane w kierunku wektora wejściowego. Wagi pozostałych neuronów pozostają niezmienione. Ten etap może być powtarzany wielokrotnie dla różnych wektorów wejściowych.\n",
    "3. Stabilizacja - po zakończeniu procesu konkurencji, sieć ulega stabilizacji. Wagi neuronów nie są już modyfikowane, a każdy neuron jest przypisany do jednej z grup.\n",
    "\n",
    "Algorytm WTA wykorzystuje zasadę zwycięzcy zabierającego wszystko - to znaczy, że zwycięzca zabiera całą pulę i jest jedynym neuronem, który jest aktywowany w trakcie prezentacji danego wektora wejściowego. Dzięki temu algorytm WTA umożliwia wyłonienie dominującego wzorca wśród danych wejściowych i grupowanie ich w klastry.\n",
    "\n",
    "Algorytm WTA znajduje zastosowanie w rozpoznawaniu wzorców, analizie danych, analizie obrazów oraz klasteryzacji danych. Jego zaletami są prostota, szybkość i skuteczność. Jednakże, algorytm WTA ma również pewne wady, takie jak niestabilność w przypadku wystąpienia szumów lub zmian w danych wejściowych, a także niemożność rozpoznawania złożonych wzorców.\n",
    "\n",
    "##### Wykresy dla określonych parametrów\n",
    "\n",
    "liczba grup = 5 <br>\n",
    "liczba obiektów = 10 <br> \n",
    "liczba epok = 10 <br>\n",
    "wartość początkowa uczenia = 0.5 <br>\n",
    "\n",
    "<img src=\"screeny\\WTA\\WTA_5_object\\WTA_learning_process.jpg\"> \n",
    "<img src=\"screeny\\WTA\\WTA_5_object\\WTA_Graph.jpg\">\n",
    "<img src=\"screeny\\WTA\\WTA_5_object\\WTA_Areas.jpg\">\n",
    "\n",
    "liczba grup = 10 <br>\n",
    "liczba obiektów = 10 <br>\n",
    "liczba epok = 10 <br>\n",
    "wartość początkowa uczenia = 0.5 <br>\n",
    "\n",
    "<img src=\"screeny\\WTA\\WTA_10_object\\WTA_learning_process.jpg\">\n",
    "<img src=\"screeny\\WTA\\WTA_10_object\\WTA_Graph.jpg\">\n",
    "<img src=\"screeny\\WTA\\WTA_10_object\\WTA_Areas.jpg\">\n",
    "\n",
    "#### CWTA (Conscience Winner Takes All)\n",
    "lgorytm CWTA (Conscience Winner Takes All) to modyfikacja standardowego algorytmu Winner-Takes-All (WTA), stosowanego w sieciach neuronowych typu Kohonena. WTA wybiera zwycięzcę na podstawie minimalnej odległości między wektorem wejściowym a neuronami SOM. WTA nie uwzględnia jednak dodatkowej wiedzy o stanie sieci, co może prowadzić do niedopasowania zwycięzcy.\n",
    "\n",
    "Algorytm CWTA wprowadza pojęcie \"sumy sumień\" dla każdego neuronu, która odzwierciedla aktywność neuronu na przestrzeni czasu. Im częściej neuron jest aktywny, tym wyższa jest jego suma sumień. Dzięki temu, że CWTA uwzględnia historię aktywności neuronów, pozwala na wybór bardziej stabilnego zwycięzcy, który jest w stanie lepiej odzwierciedlić strukturę wejściową.\n",
    "\n",
    "Algorytm CWTA składa się z dwóch faz:\n",
    "\n",
    "1. Faza konkurencji - każdy neuron SOM jest aktywowany przez wektor wejściowy, a następnie suma sumień każdego neuronu jest zwiększana o wartość procentową.\n",
    "2. Faza selekcji zwycięzcy - neuron z najniższą wartością sumy sumień jest uznawany za zwycięzcę i jest aktualizowany.\n",
    "\n",
    "Algorytm CWTA pozwala na uniknięcie efektu \"histerii\" sieci, gdzie zwycięzca stale wygrywa, a inne neurony są wykluczone. Dzięki uwzględnieniu historii aktywności, algorytm CWTA może przeciwdziałać temu efektowi, wybierając bardziej stabilnych zwycięzców i zapewniając bardziej równomierne rozmieszczenie neuronów SOM w przestrzeni wejściowej.\n",
    "\n",
    "Algorytm CWTA znajduje zastosowanie w rozpoznawaniu wzorców, klasyfikacji obrazów i analizie danych, gdzie ważna jest stabilność wyboru zwycięzcy i równomierność rozkładu neuronów SOM w przestrzeni wejściowej.\n",
    "\n",
    "##### Wykresy dla określonych parametrów\n",
    "\n",
    "liczba grup = 5 <br>\n",
    "liczba obiektów = 10 <br> \n",
    "liczba epok = 10 <br>\n",
    "wartość początkowa uczenia = 0.5 <br>\n",
    "\n",
    "<img src=\"screeny\\CWTA\\CWTA_5_groups\\CWTA_learning_process.jpg\">\n",
    "<img src=\"screeny\\CWTA\\CWTA_5_groups\\CWTA_Graph.jpg\">\n",
    "<img src=\"screeny\\CWTA\\CWTA_5_groups\\CWTA_Areas.jpg\">\n",
    "\n",
    "liczba grup = 10 <br>\n",
    "liczba obiektów = 10 <br>\n",
    "liczba epok = 10 <br>\n",
    "wartość początkowa uczenia = 0.5 <br>\n",
    "\n",
    "<img src=\"screeny\\CWTA\\CWTA_10_groups\\CWTA_learning_process.jpg\">\n",
    "<img src=\"screeny\\CWTA\\CWTA_10_groups\\CWTA_Graph.jpg\">\n",
    "<img src=\"screeny\\CWTA\\CWTA_10_groups\\CWTA_Areas.jpg\">\n",
    "\n",
    "#### WTM batch (Winner Takes Most Batch)\n",
    "\n",
    "Algorytm WTM Batch (Winner Takes Most Batch) jest stosowany w sieciach neuronowych typu Kohonena, które służą do grupowania danych wejściowych na podstawie podobieństwa. Algorytm ten składa się z dwóch faz: inicjalizacji i konkurencji.\n",
    "\n",
    "1. Inicjalizacja:\n",
    "W fazie inicjalizacji losowo wybierane są wagi dla neuronów SOM (Self-Organizing Map). Wagi te są przypisywane początkowemu rozkładowi w przestrzeni wejściowej.\n",
    "\n",
    "2. Konkurencja:\n",
    "W fazie konkurencji dla każdego wejścia wyznaczany jest neuron z najbliższą wagą, zwany zwycięzcą. Następnie wagi są aktualizowane, tak aby zwycięzca miał jeszcze bliższe wartości do wejścia, a sąsiednie neurony do zwycięzcy również są aktualizowane, ale w mniejszym stopniu.\n",
    "\n",
    "Algorytm WTM Batch wykorzystuje strategię zwycięzca-bierze-więcej (winner-takes-most), co oznacza, że wybrany neuron otrzymuje większą aktualizację swoich wag, a sąsiednie neurony są aktualizowane w mniejszym stopniu. Dzięki temu algorytm może szybciej osiągać stabilizację i lepiej radzić sobie z dużymi zbiorami danych.\n",
    "\n",
    "Algorytm WTM Batch jest stosowany w przetwarzaniu obrazów i dźwięku, gdzie sieci Kohonena służą do grupowania pikseli lub cech dźwiękowych w zbiory o podobnych właściwościach.\n",
    "\n",
    "##### Wykresy dla określonych parametrów\n",
    "\n",
    "liczba grup = 5 <br>\n",
    "liczba obiektów = 10 <br> \n",
    "liczba epok = 10 <br>\n",
    "wartość początkowa uczenia = 0.2 <br>\n",
    "promień początkowy = 3 <br>\n",
    "\n",
    "<img src=\"screeny\\WTM_batch\\WTM_batch_5_groups\\WTM_batch_learning_process.jpg\">\n",
    "<img src=\"screeny\\WTM_batch\\WTM_batch_5_groups\\WTM_batch_Graph.jpg\">\n",
    "<img src=\"screeny\\WTM_batch\\WTM_batch_5_groups\\WTM_batch_Areas.jpg\">\n",
    "\n",
    "liczba grup = 10 <br>\n",
    "liczba obiektów = 10 <br>\n",
    "liczba epok = 10 <br>\n",
    "wartość początkowa uczenia = 0.2 <br>\n",
    "promień początkowy = 3 <br>\n",
    "\n",
    "<img src=\"screeny\\WTM_batch\\WTM_batch_10_groups\\WTM_batch_learning_process.jpg\">\n",
    "<img src=\"screeny\\WTM_batch\\WTM_batch_10_groups\\WTM_batch_Graph.jpg\">\n",
    "<img src=\"screeny\\WTM_batch\\WTM_batch_10_groups\\WTM_batch_Areas.jpg\">\n",
    "\n",
    "#### WTM seq\n",
    "Algorytm WTM Seq (Winner Takes Most Sequence) jest rozszerzeniem algorytmu WTM Batch, również stosowanym w sieciach neuronowych typu Kohonena. W odróżnieniu od WTM Batch, WTM Seq uwzględnia sekwencje danych wejściowych i ma zastosowanie w analizie sekwencji tekstu.\n",
    "\n",
    "Algorytm WTM Seq składa się z trzech faz:\n",
    "\n",
    "1. Inicjalizacji - losowo wybierane są wagi dla neuronów SOM.\n",
    "2. Konkurencji - dla każdej sekwencji wyznaczany jest neuron z najbliższą wagą, zwany zwycięzcą. Wagi są aktualizowane, aby zwycięzca miał jeszcze bliższe wartości do sekwencji, a sąsiednie neurony do zwycięzcy również są aktualizowane, ale w mniejszym stopniu.\n",
    "3. Adaptacji - po każdej iteracji uczącej wagi są aktualizowane w sposób specyficzny dla sekwencji. Zamiast aktualizować wagi neuronów tylko na podstawie jednej sekwencji, algorytm WTM Seq wykorzystuje wagę neuronu, która zależy od sumy wag zwycięzców dla każdej sekwencji w ciągu uczącym. To znaczy, że sekwencje występujące częściej wpłyną na aktualizację wag w sposób bardziej znaczący.\n",
    "\n",
    "Algorytm WTM Seq jest stosowany w analizie sekwencji tekstu, na przykład do grupowania dokumentów na podstawie podobieństwa. Może być również stosowany w innych dziedzinach, gdzie występują sekwencje danych wejściowych, takich jak sekwencje DNA lub sygnały czasowe.\n",
    "\n",
    "##### Wykresy dla określonych parametrów\n",
    "\n",
    "liczba grup = 5 <br>\n",
    "liczba obiektów = 10 <br> \n",
    "liczba epok = 10 <br>\n",
    "wartość początkowa uczenia = 0.05 <br>\n",
    "promień początkowy = 4 <br>\n",
    "\n",
    "<img src=\"screeny\\WTM_seq\\WTM_seq_5_groups\\WTM_seq_learning_process.jpg\">\n",
    "<img src=\"screeny\\WTM_seq\\WTM_seq_5_groups\\WTM_seq_Graph.jpg\">\n",
    "<img src=\"screeny\\WTM_seq\\WTM_seq_5_groups\\WTM_seq_Areas.jpg\">\n",
    "\n",
    "liczba grup = 10 <br>\n",
    "liczba obiektów = 10 <br>\n",
    "liczba epok = 10 <br>\n",
    "wartość początkowa uczenia = 0.05 <br>\n",
    "promień początkowy = 4 <br>\n",
    "\n",
    "<img src=\"screeny\\WTM_seq\\WTM_seq_10_groups\\WTM_seq_learning_process.jpg\">\n",
    "<img src=\"screeny\\WTM_seq\\WTM_seq_10_groups\\WTM_seq_Graph.jpg\">\n",
    "<img src=\"screeny\\WTM_seq\\WTM_seq_10_groups\\WTM_seq_Areas.jpg\">\n",
    "\n",
    "#### Neural gas\n",
    "Algorytm Neural Gas (NG) jest jednym z algorytmów stosowanych w sieciach neuronowych typu Kohonena, które służą do grupowania danych wejściowych na podstawie podobieństwa. Algorytm ten jest rozszerzeniem algorytmu Kohonena i wykorzystuje podobne założenia co WTM (Winner-Takes-Most).\n",
    "\n",
    "Algorytm NG składa się z trzech etapów:\n",
    "\n",
    "1. Inicjalizacja - losowo inicjuje się położenie neuronów w przestrzeni wejściowej i przypisuje im losowe wagi.\n",
    "2. Adaptacja - neuron, który jest najbliżej aktualnie prezentowanego wektora wejściowego jest uaktualniany poprzez zmianę swojej pozycji oraz wagi. Sąsiedzi tego neuronu również są uaktualniani, ale w mniejszym stopniu. Proces ten jest powtarzany wielokrotnie aż do osiągnięcia stabilizacji.\n",
    "3. Redukcja - usuwanie neuronów, które są mniej aktywne i nie przyczyniają się do zdefiniowania skutecznych klastrów.\n",
    "\n",
    "Algorytm NG różni się od standardowej sieci Kohonena tym, że bada on dystrybucję punktów w przestrzeni wejściowej, a nie odległość euklidesową między neuronami. W wyniku tego algorytm NG umożliwia bardziej równomierne rozmieszczenie neuronów w przestrzeni wejściowej oraz lepsze przewidywanie topologii rozkładu klastrów.\n",
    "\n",
    "Algorytm Neural Gas znajduje zastosowanie w rozpoznawaniu wzorców, analizie danych, analizie obrazów oraz klasteryzacji danych.\n",
    "\n",
    "##### Wykresy dla określonych parametrów\n",
    "\n",
    "liczba grup = 5 <br>\n",
    "liczba obiektów = 10 <br> \n",
    "liczba epok = 10 <br>\n",
    "wartość początkowa uczenia = 0.5 <br>\n",
    "lambda początkowa = 18 <br>\n",
    "\n",
    "<img src=\"screeny\\NeuralGas\\Neural_gasp_5_groups\\Neural_gasp_learning_process.jpg\">\n",
    "<img src=\"screeny\\NeuralGas\\Neural_gasp_5_groups\\Neural_gasp_Graph.jpg\">\n",
    "<img src=\"screeny\\NeuralGas\\Neural_gasp_5_groups\\Neural_gasp_Areas.jpg\">\n",
    "\n",
    "liczba grup = 10 <br>\n",
    "liczba obiektów = 10 <br>\n",
    "liczba epok = 10 <br>\n",
    "wartość początkowa uczenia = 0.5 <br>\n",
    "lambda początkowa = 18 <br>\n",
    "\n",
    "<img src=\"screeny\\NeuralGas\\Neural_gasp_10_groups\\Neural_gasp_learning_process.jpg\">\n",
    "<img src=\"screeny\\NeuralGas\\Neural_gasp_10_groups\\Neural_gasp_Graph.jpg\">\n",
    "<img src=\"screeny\\NeuralGas\\Neural_gasp_10_groups\\Neural_gasp_Areas.jpg\">\n",
    "\n",
    "### Podsumowanie oraz wnioski\n",
    "Podsumowując, algorytmy w sieciach neuronowych typu Kohonena służą do grupowania danych wejściowych w klastry. Wyróżniamy kilka algorytmów, takich jak WTA, CWTA, Neural Gas oraz WTM batch i WTM seq, które różnią się między sobą sposobem wyłaniania zwycięzców i modyfikacji wag neuronów. <br>\n",
    "\n",
    "Niezbędnym elementem w sieciach Kohonena jest proces kwantyzacji, czyli przypisywania wektorów wejściowych do najbliższego neuronu. Jednakże, ten proces może wprowadzić błąd kwantyzacji, co z kolei może prowadzić do destabilizacji sieci i utraty jakości grupowania.\n",
    "\n",
    "W algorytmie WTA, błąd kwantyzacji jest duży wynika z faktu, że wyłoniony zwycięzca reprezentuje tylko jeden klaster, co może prowadzić do nieprawidłowego grupowania danych wejściowych, szczególnie w przypadku wystąpienia szumów lub zmian w danych.\n",
    "\n",
    "W algorytmie CWTA, błąd kwantyzacji jest mniejszy, ponieważ mechanizm sumy sumień umożliwia zapobieganie powstawaniu klastrów o niskiej jakości. Niemniej jednak, nadal istnieje ryzyko nieprawidłowego grupowania danych wejściowych.\n",
    "\n",
    "W algorytmie Neural Gas, błąd kwantyzacji jest redukowany poprzez rozproszenie neuronów w przestrzeni wejściowej, co umożliwia dokładniejsze odwzorowanie danych i wyłonienie mniejszych, bardziej precyzyjnych klastrów.\n",
    "\n",
    "W algorytmach WTM batch oraz WTM seq, błąd kwantyzacji jest mniejszy niż w algorytmie WTA, ponieważ umożliwiają wyłonienie kilku zwycięzców dla danego wektora wejściowego. To pozwala na zredukowanie ryzyka nieprawidłowego grupowania danych i zwiększenie stabilności sieci.\n",
    "\n",
    "Wnioskiem z powyższego jest to, że błąd kwantyzacji jest kluczowym problemem w sieciach neuronowych typu Kohonena, a wybór odpowiedniego algorytmu zależy od specyfiki problemu, rodzaju danych wejściowych oraz wymagań dotyczących stabilności i jakości grupowania."
   ]
  }
 ],
 "metadata": {
  "kernelspec": {
   "display_name": "Python 3",
   "language": "python",
   "name": "python3"
  },
  "language_info": {
   "codemirror_mode": {
    "name": "ipython",
    "version": 3
   },
   "file_extension": ".py",
   "mimetype": "text/x-python",
   "name": "python",
   "nbconvert_exporter": "python",
   "pygments_lexer": "ipython3",
   "version": "3.10.5"
  },
  "orig_nbformat": 4,
  "vscode": {
   "interpreter": {
    "hash": "a0da10e4a676271bf4385554530c8fd043c8dca3e660087d92b854321367f38d"
   }
  }
 },
 "nbformat": 4,
 "nbformat_minor": 2
}
