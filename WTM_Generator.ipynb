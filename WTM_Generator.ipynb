{
 "cells": [
  {
   "attachments": {},
   "cell_type": "markdown",
   "metadata": {},
   "source": [
    "# Algorytmy Genetyczne i sztuczne sieci neuronowe\n",
    "\n",
    "## Budowanie generatora do testowania sieci WTM (ang. SOM (Self-organizing map))\n",
    "\n",
    "Specyfikacja dotycząca generatora:\n",
    "<ul>\n",
    "<li>Liczba grup danych = 5</li>\n",
    "<li>Rozmiar danych = 2D</li>\n",
    "<li>Zakres danych [0:100 ; 0:100]</li>\n",
    "<li>Liczba obiektów w danej grupie danych = 10</li>\n",
    "<li>Promień każdej grupy = 5</li>\n",
    "</ul>\n",
    "\n",
    "Przykładowy wykres wygenerowanych danych poniżej:\n",
    "\n",
    "<img src=\"WTM_model_example.png\"> \n",
    "\n",
    "<font color='red'> UWAGA!!!:</font> Wyświetlanie danych powinno być znormalizowane do zapisu np. [72, 10; ...]. Każda współrzędna kolejna poprzedzona speratorem ,, ; ''\n",
    "\n",
    "<font color='yellow'> PS: Mieszanie danych podczas uczenia np. w przypadku alfabetu uczenie (a,b,c,d,...), potem uczenie od (g,h,i,j,...). Różne  możliwości????</font>"
   ]
  },
  {
   "attachments": {},
   "cell_type": "markdown",
   "metadata": {},
   "source": [
    "### Importowanie potrzebnych bibliotek"
   ]
  },
  {
   "cell_type": "code",
   "execution_count": 700,
   "metadata": {},
   "outputs": [],
   "source": [
    "import pandas as pd\n",
    "import matplotlib.pyplot as plt\n",
    "import numpy as np\n",
    "import random\n",
    "import math"
   ]
  },
  {
   "cell_type": "code",
   "execution_count": 701,
   "metadata": {},
   "outputs": [],
   "source": [
    "number_of_groups = 5    #Number of groups in model\n",
    "radius = 5\n",
    "number_of_object = 10   #Number of object in each group"
   ]
  },
  {
   "cell_type": "code",
   "execution_count": 702,
   "metadata": {},
   "outputs": [],
   "source": [
    "def coordinate_generator_group(temp_lst):\n",
    "    for element in temp_lst:\n",
    "        temp_x_point = random.randint(0,100)    #Generate x and y coordinate for specific group\n",
    "        temp_y_point = random.randint(0,100)    \n",
    "        element[0] = temp_x_point               #Save points in list\n",
    "        element[1] = temp_y_point"
   ]
  },
  {
   "cell_type": "code",
   "execution_count": 703,
   "metadata": {},
   "outputs": [
    {
     "name": "stdout",
     "output_type": "stream",
     "text": [
      "      x     y\n",
      "0  89.0  74.0\n",
      "1  24.0  48.0\n",
      "2  65.0  22.0\n",
      "3  71.0  69.0\n",
      "4  34.0  50.0\n"
     ]
    }
   ],
   "source": [
    "lst_groups = np.zeros((number_of_groups,2))    #Create a list of groups coordinates\n",
    "\n",
    "coordinate_generator_group(lst_groups)    #Function to generate coordinates for groups\n",
    "\n",
    "groups = pd.DataFrame(lst_groups, columns =['x', 'y'])        #Load data groups in DataFrame object\n",
    "print(groups)"
   ]
  },
  {
   "cell_type": "code",
   "execution_count": 720,
   "metadata": {},
   "outputs": [],
   "source": [
    "def coordinate_generator_object(temp_lst, element_lst_groups):\n",
    "        for element_temp_lst in temp_lst:\n",
    "            r = radius * random.random()\n",
    "            theta = 2 * math.pi *random.random()\n",
    "\n",
    "            temp_x_point = element_lst_groups[0] + r * math.cos(theta)   #Generate x and y coordinate for specific group\n",
    "            temp_y_point = element_lst_groups[1] + r * math.sin(theta)\n",
    "\n",
    "            element_temp_lst[0] = temp_x_point\n",
    "            element_temp_lst[1] = temp_y_point\n",
    "        return temp_lst"
   ]
  },
  {
   "cell_type": "code",
   "execution_count": 726,
   "metadata": {},
   "outputs": [
    {
     "name": "stdout",
     "output_type": "stream",
     "text": [
      "[88.04277094 73.51118532 84.58104039 73.06892234 90.33367186 76.04676318\n",
      " 87.23567911 73.17208339 88.97343772 77.37722376 88.54753231 74.14645664\n",
      " 91.93682998 73.57739752 89.09851555 74.11785117 90.46712575 77.25962343\n",
      " 84.25237225 72.58510823 24.57888082 50.64484455 19.54998975 48.96870871\n",
      " 23.6822817  50.52532872 20.12502682 44.93697629 24.7365654  44.26915321\n",
      " 24.39575924 47.04093809 23.97246546 43.67494825 28.26856046 50.12729092\n",
      " 24.65297723 47.80880491 19.71817495 49.88086032 65.60775144 21.21907123\n",
      " 65.1183222  20.53187907 65.55139328 26.03412763 64.94155478 22.16560171\n",
      " 64.46545247 18.70031679 64.89604882 21.90135857 63.68351377 24.28128978\n",
      " 61.42086613 22.01041642 62.55614986 23.32443781 66.13917516 21.82719096\n",
      " 71.8382399  70.55412119 72.42551183 65.27674944 72.34963018 68.68795005\n",
      " 69.24512665 69.66378782 74.07877148 68.59638756 73.15251838 70.16742392\n",
      " 74.83759681 68.26667757 66.80944782 70.60266357 70.72825627 69.03908816\n",
      " 71.14186042 68.80667865 33.24750822 50.48833276 32.2321322  51.92877131\n",
      " 32.15813547 45.53388161 34.57069879 50.02260577 34.61359605 49.96008775\n",
      " 33.05407612 49.74584107 33.85398623 47.06326258 33.87804258 50.12566865\n",
      " 34.06990759 49.8538094  33.14054122 54.27258031]\n"
     ]
    },
    {
     "ename": "ValueError",
     "evalue": "Shape of passed values is (100, 1), indices imply (100, 2)",
     "output_type": "error",
     "traceback": [
      "\u001b[1;31m---------------------------------------------------------------------------\u001b[0m",
      "\u001b[1;31mValueError\u001b[0m                                Traceback (most recent call last)",
      "\u001b[1;32mg:\\Projekty\\Generator_do_sieci_WTM\\WTM_Generator.ipynb Komórka 8\u001b[0m in \u001b[0;36m<cell line: 9>\u001b[1;34m()\u001b[0m\n\u001b[0;32m      <a href='vscode-notebook-cell:/g%3A/Projekty/Generator_do_sieci_WTM/WTM_Generator.ipynb#X12sZmlsZQ%3D%3D?line=4'>5</a>\u001b[0m     lst_objects \u001b[39m=\u001b[39m np\u001b[39m.\u001b[39mappend(lst_objects, coordinate_generator_object(temp_lst_objects, element_lst_groups))\n\u001b[0;32m      <a href='vscode-notebook-cell:/g%3A/Projekty/Generator_do_sieci_WTM/WTM_Generator.ipynb#X12sZmlsZQ%3D%3D?line=6'>7</a>\u001b[0m \u001b[39mprint\u001b[39m(lst_objects)\n\u001b[1;32m----> <a href='vscode-notebook-cell:/g%3A/Projekty/Generator_do_sieci_WTM/WTM_Generator.ipynb#X12sZmlsZQ%3D%3D?line=8'>9</a>\u001b[0m objects \u001b[39m=\u001b[39m pd\u001b[39m.\u001b[39;49mDataFrame(lst_objects, columns \u001b[39m=\u001b[39;49m[\u001b[39m'\u001b[39;49m\u001b[39mx\u001b[39;49m\u001b[39m'\u001b[39;49m, \u001b[39m'\u001b[39;49m\u001b[39my\u001b[39;49m\u001b[39m'\u001b[39;49m])        \u001b[39m#Load data groups in DataFrame object\u001b[39;00m\n\u001b[0;32m     <a href='vscode-notebook-cell:/g%3A/Projekty/Generator_do_sieci_WTM/WTM_Generator.ipynb#X12sZmlsZQ%3D%3D?line=9'>10</a>\u001b[0m \u001b[39mprint\u001b[39m(objects)\n",
      "File \u001b[1;32mc:\\Users\\maszy\\AppData\\Local\\Programs\\Python\\Python310\\lib\\site-packages\\pandas\\core\\frame.py:722\u001b[0m, in \u001b[0;36mDataFrame.__init__\u001b[1;34m(self, data, index, columns, dtype, copy)\u001b[0m\n\u001b[0;32m    712\u001b[0m         mgr \u001b[39m=\u001b[39m dict_to_mgr(\n\u001b[0;32m    713\u001b[0m             \u001b[39m# error: Item \"ndarray\" of \"Union[ndarray, Series, Index]\" has no\u001b[39;00m\n\u001b[0;32m    714\u001b[0m             \u001b[39m# attribute \"name\"\u001b[39;00m\n\u001b[1;32m   (...)\u001b[0m\n\u001b[0;32m    719\u001b[0m             typ\u001b[39m=\u001b[39mmanager,\n\u001b[0;32m    720\u001b[0m         )\n\u001b[0;32m    721\u001b[0m     \u001b[39melse\u001b[39;00m:\n\u001b[1;32m--> 722\u001b[0m         mgr \u001b[39m=\u001b[39m ndarray_to_mgr(\n\u001b[0;32m    723\u001b[0m             data,\n\u001b[0;32m    724\u001b[0m             index,\n\u001b[0;32m    725\u001b[0m             columns,\n\u001b[0;32m    726\u001b[0m             dtype\u001b[39m=\u001b[39;49mdtype,\n\u001b[0;32m    727\u001b[0m             copy\u001b[39m=\u001b[39;49mcopy,\n\u001b[0;32m    728\u001b[0m             typ\u001b[39m=\u001b[39;49mmanager,\n\u001b[0;32m    729\u001b[0m         )\n\u001b[0;32m    731\u001b[0m \u001b[39m# For data is list-like, or Iterable (will consume into list)\u001b[39;00m\n\u001b[0;32m    732\u001b[0m \u001b[39melif\u001b[39;00m is_list_like(data):\n",
      "File \u001b[1;32mc:\\Users\\maszy\\AppData\\Local\\Programs\\Python\\Python310\\lib\\site-packages\\pandas\\core\\internals\\construction.py:349\u001b[0m, in \u001b[0;36mndarray_to_mgr\u001b[1;34m(values, index, columns, dtype, copy, typ)\u001b[0m\n\u001b[0;32m    344\u001b[0m \u001b[39m# _prep_ndarraylike ensures that values.ndim == 2 at this point\u001b[39;00m\n\u001b[0;32m    345\u001b[0m index, columns \u001b[39m=\u001b[39m _get_axes(\n\u001b[0;32m    346\u001b[0m     values\u001b[39m.\u001b[39mshape[\u001b[39m0\u001b[39m], values\u001b[39m.\u001b[39mshape[\u001b[39m1\u001b[39m], index\u001b[39m=\u001b[39mindex, columns\u001b[39m=\u001b[39mcolumns\n\u001b[0;32m    347\u001b[0m )\n\u001b[1;32m--> 349\u001b[0m _check_values_indices_shape_match(values, index, columns)\n\u001b[0;32m    351\u001b[0m \u001b[39mif\u001b[39;00m typ \u001b[39m==\u001b[39m \u001b[39m\"\u001b[39m\u001b[39marray\u001b[39m\u001b[39m\"\u001b[39m:\n\u001b[0;32m    353\u001b[0m     \u001b[39mif\u001b[39;00m \u001b[39missubclass\u001b[39m(values\u001b[39m.\u001b[39mdtype\u001b[39m.\u001b[39mtype, \u001b[39mstr\u001b[39m):\n",
      "File \u001b[1;32mc:\\Users\\maszy\\AppData\\Local\\Programs\\Python\\Python310\\lib\\site-packages\\pandas\\core\\internals\\construction.py:420\u001b[0m, in \u001b[0;36m_check_values_indices_shape_match\u001b[1;34m(values, index, columns)\u001b[0m\n\u001b[0;32m    418\u001b[0m passed \u001b[39m=\u001b[39m values\u001b[39m.\u001b[39mshape\n\u001b[0;32m    419\u001b[0m implied \u001b[39m=\u001b[39m (\u001b[39mlen\u001b[39m(index), \u001b[39mlen\u001b[39m(columns))\n\u001b[1;32m--> 420\u001b[0m \u001b[39mraise\u001b[39;00m \u001b[39mValueError\u001b[39;00m(\u001b[39mf\u001b[39m\u001b[39m\"\u001b[39m\u001b[39mShape of passed values is \u001b[39m\u001b[39m{\u001b[39;00mpassed\u001b[39m}\u001b[39;00m\u001b[39m, indices imply \u001b[39m\u001b[39m{\u001b[39;00mimplied\u001b[39m}\u001b[39;00m\u001b[39m\"\u001b[39m)\n",
      "\u001b[1;31mValueError\u001b[0m: Shape of passed values is (100, 1), indices imply (100, 2)"
     ]
    }
   ],
   "source": [
    "temp_lst_objects = np.zeros((number_of_object,2))\n",
    "lst_objects = []\n",
    "\n",
    "for element_lst_groups in lst_groups:\n",
    "    lst_objects = np.append(lst_objects, coordinate_generator_object(temp_lst_objects, element_lst_groups))\n",
    "\n",
    "print(lst_objects)\n",
    "\n",
    "objects = pd.DataFrame(lst_objects, columns =['x', 'y'])        #Load data groups in DataFrame object\n",
    "#print(objects)"
   ]
  },
  {
   "cell_type": "code",
   "execution_count": null,
   "metadata": {},
   "outputs": [],
   "source": [
    "def  createCircles(centre, radius):\n",
    "    return plt.Circle((centre[0], centre[1]), radius, color='b', fill=False)"
   ]
  },
  {
   "cell_type": "code",
   "execution_count": null,
   "metadata": {},
   "outputs": [
    {
     "name": "stdout",
     "output_type": "stream",
     "text": [
      "5\n"
     ]
    },
    {
     "data": {
      "image/png": "[encoded data removed]",
      "text/plain": [
       "<Figure size 1080x1080 with 1 Axes>"
      ]
     },
     "metadata": {
      "needs_background": "light"
     },
     "output_type": "display_data"
    }
   ],
   "source": [
    "# Creating a new figure \n",
    "fig, ax = plt.subplots(figsize=(15,15))\n",
    "\n",
    "# Numpy array as scatter plot\n",
    "plt.scatter(x=groups['x'],y=groups['y'])\n",
    "plt.scatter(x=objects['x'],y=objects['y'])\n",
    "\n",
    "print(len(lst_groups))\n",
    "\n",
    "radius = 5\n",
    "for item in lst_groups:\n",
    "    ax.add_patch(createCircles(item, radius))\n",
    "\n",
    "# Adding details to the plot\n",
    "plt.title('Wykres generowanych grup i obiektów')\n",
    "plt.xlabel('x-axis')\n",
    "plt.ylabel('y-axis')\n",
    "\n",
    "# Displaying the plot\n",
    "plt.xlim(0,100)\n",
    "plt.ylim(0,100)\n",
    "plt.grid()\n",
    "plt.show()"
   ]
  }
 ],
 "metadata": {
  "kernelspec": {
   "display_name": "Python 3",
   "language": "python",
   "name": "python3"
  },
  "language_info": {
   "codemirror_mode": {
    "name": "ipython",
    "version": 3
   },
   "file_extension": ".py",
   "mimetype": "text/x-python",
   "name": "python",
   "nbconvert_exporter": "python",
   "pygments_lexer": "ipython3",
   "version": "3.10.5"
  },
  "orig_nbformat": 4,
  "vscode": {
   "interpreter": {
    "hash": "a0da10e4a676271bf4385554530c8fd043c8dca3e660087d92b854321367f38d"
   }
  }
 },
 "nbformat": 4,
 "nbformat_minor": 2
}
