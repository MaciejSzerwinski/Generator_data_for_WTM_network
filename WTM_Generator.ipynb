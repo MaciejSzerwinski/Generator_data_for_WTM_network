{
 "cells": [
  {
   "attachments": {},
   "cell_type": "markdown",
   "metadata": {},
   "source": [
    "# Algorytmy Genetyczne i sztuczne sieci neuronowe\n",
    "\n",
    "## Budowanie generatora do testowania sieci WTM (ang. SOM (Self-organizing map))\n",
    "\n",
    "Specyfikacja dotycząca generatora:\n",
    "<ul>\n",
    "<li>Liczba grup danych = 5</li>\n",
    "<li>Rozmiar danych = 2D</li>\n",
    "<li>Zakres danych [0:100 ; 0:100]</li>\n",
    "<li>Liczba obiektów w danej grupie danych = 10</li>\n",
    "<li>Promień każdej grupy = 5</li>\n",
    "</ul>\n",
    "\n",
    "Przykładowy wykres wygenerowanych danych poniżej:\n",
    "\n",
    "<img src=\"WTM_model_example.png\"> \n",
    "\n",
    "<font color='red'> UWAGA!!!:</font> Wyświetlanie danych powinno być znormalizowane do zapisu np. [72, 10; ...]. Każda współrzędna kolejna poprzedzona speratorem ,, ; ''\n",
    "\n",
    "<font color='yellow'> PS: Mieszanie danych podczas uczenia np. w przypadku alfabetu uczenie (a,b,c,d,...), potem uczenie od (g,h,i,j,...). Różne  możliwości????</font>"
   ]
  },
  {
   "attachments": {},
   "cell_type": "markdown",
   "metadata": {},
   "source": [
    "### Importowanie potrzebnych bibliotek"
   ]
  },
  {
   "cell_type": "code",
   "execution_count": 297,
   "metadata": {},
   "outputs": [],
   "source": [
    "import pandas as pd\n",
    "import matplotlib.pyplot as plt\n",
    "import numpy as np\n",
    "import random\n",
    "import math"
   ]
  },
  {
   "attachments": {},
   "cell_type": "markdown",
   "metadata": {},
   "source": [
    "### Zmienne potrzebne do wygenerowania danych\n",
    "<ul>\n",
    "<li>number_of_groups - mienna określająca ilość grup danych</li>\n",
    "<li>radius  - zmienna określająca promień okręgu, który posłużyć ma nam jako obszar generowanych obiektów danych</li>\n",
    "<li>number_of_object - zmienna mówiąca o ilości obiektów jakie muszą być wygenerowane w określonej grupie danych </li>\n",
    "</ul>"
   ]
  },
  {
   "cell_type": "code",
   "execution_count": 298,
   "metadata": {},
   "outputs": [],
   "source": [
    "number_of_groups = 5    #Number of groups in model\n",
    "radius = 5              #Circle radius\n",
    "number_of_object = 10   #Number of object in each group"
   ]
  },
  {
   "attachments": {},
   "cell_type": "markdown",
   "metadata": {},
   "source": [
    "### Proces generowania koordynatów dla konkretnych grup\n",
    "- za pomocą funkcji <font color='yellow'>,,zeros\"</font> zawartej w bibliotece numpy generowana jest tablica 2D wypełniona zerami, która potem będzie wykorzystana do zapisu koordynatów poszczególnych wygenerowanych grup,\n",
    "- funkcja <font color='yellow'>,,coordinate_generator_group(lst_groups)\"</font> przekazuje w argumencie stworzoną wcześniej tablice 2D wypełnioną zerami. Następnie poprzez pętle for przechodzimy po poszczególnych elementach tablicy zapisując w niej wygenerowane punkty x i y w odpowiednim zakresie od 0 do 100. Zapis danych jest poprzez <font color='yellow'>,,element[0] & element[1]\"</font>, które zapisują koordynaty w konkretnych miejscach podtablicy.\n",
    "- wykorzystując bibliotekę pandas jesteśmy w stanie zapisać dane x i y w dwuwymiarowej strukturze danych, które oznaczone są rzędami i kolumnami. Pełni to funkcję przejrzystego wglądu do generowanych danych."
   ]
  },
  {
   "cell_type": "code",
   "execution_count": 299,
   "metadata": {},
   "outputs": [],
   "source": [
    "def coordinate_generator_group(temp_lst):\n",
    "    for element in temp_lst:\n",
    "        temp_x_point = random.randint(0,100)    #Generate x and y coordinate for specific group\n",
    "        temp_y_point = random.randint(0,100)    \n",
    "        element[0] = temp_x_point               #Save points in list\n",
    "        element[1] = temp_y_point"
   ]
  },
  {
   "cell_type": "code",
   "execution_count": 300,
   "metadata": {},
   "outputs": [
    {
     "name": "stdout",
     "output_type": "stream",
     "text": [
      "      x     y\n",
      "0  90.0  79.0\n",
      "1   5.0  31.0\n",
      "2  26.0  89.0\n",
      "3  31.0  25.0\n",
      "4  12.0  64.0\n"
     ]
    }
   ],
   "source": [
    "lst_groups = np.zeros((number_of_groups,2))    #Create a list of groups coordinates\n",
    "\n",
    "coordinate_generator_group(lst_groups)    #Function to generate coordinates for groups\n",
    "\n",
    "groups = pd.DataFrame(lst_groups, columns =['x', 'y'])        #Load data groups in DataFrame object\n",
    "print(groups)"
   ]
  },
  {
   "attachments": {},
   "cell_type": "markdown",
   "metadata": {},
   "source": [
    "### Proces generowania koordynatów do obiektów konkretnych grup danych\n",
    "- za pomocą wcześniej wspomnianej funkcji <font color=yellow>,,zeros\"</font> generowana jest tablica 2D wypełniona zerami,\n",
    "- wspomniana wyżej tablica nadpisywana jest poprzez wywołaną funkcję <font color=yellow>,,coordinate_generator_object(lst_objects)\"</font>. W funkcji na początku został stworzony <font color=yellow>counter</font>, który pomoże podczas identyfkacji danego elementu w tablicy <font color=yellow>temp_lst</font>, która zawiera <font color=yellow>number_of_object*number_of_groups</font> elemenetów. Pierwszy człon pętli iteruje po elementach tablicy zawierającej koordynaty grup, następny człon natomiast będzie generował ilość punktów w grupie zdefiniowanej w zmiennej <font color=yellow>number_of_object</font>. Następnie przy pomocy wzorów na ogrąg generowane są punkty pod konkretnym kątem w okręgu, który jest grupą oraz zapisywane są w zmiennych <font color=yellow>temp_x</font> oraz <font color=yellow>temp_y</font>. Wygenerowane wcześniej koordynaty umieszczane są w konkretnych elementach tablicy jaki wskazuje nam zmienna <font color=yellow>coutner</font>. Na koniec zwracana jest tablica wraz z zapisanymi koordynatami.\n",
    "- rownież z wykorzystaniem biblioteki pandas jesteśmy w sposób przejrzysty wyświetlić oraz manipulować danaymi."
   ]
  },
  {
   "cell_type": "code",
   "execution_count": 301,
   "metadata": {},
   "outputs": [],
   "source": [
    "def coordinate_generator_object(temp_lst):\n",
    "    counter = 0                                                     #counter elements in array temp_lst\n",
    "    for elements_lst_groups in lst_groups:\n",
    "        for _ in range(number_of_object):\n",
    "            r = radius * random.random()\n",
    "            theta = 2 * math.pi *random.random()\n",
    "\n",
    "            temp_x = elements_lst_groups[0] + r * math.cos(theta)   #Generate x and y coordinate for specific group\n",
    "            temp_y = elements_lst_groups[1] + r * math.sin(theta)\n",
    "\n",
    "            #print('x', temp_x, 'y', temp_y)\n",
    "            temp_lst[counter][0] = temp_x\n",
    "            temp_lst[counter][1] = temp_y\n",
    "            counter+=1\n",
    "    \n",
    "    return temp_lst"
   ]
  },
  {
   "cell_type": "code",
   "execution_count": 302,
   "metadata": {},
   "outputs": [
    {
     "name": "stdout",
     "output_type": "stream",
     "text": [
      "            x          y\n",
      "0   85.733329  79.866171\n",
      "1   89.866145  79.916582\n",
      "2   86.504713  77.038780\n",
      "3   87.443581  77.407805\n",
      "4   91.525077  76.313239\n",
      "5   89.928304  79.642787\n",
      "6   92.401557  77.659462\n",
      "7   94.179610  80.933359\n",
      "8   88.637727  80.069732\n",
      "9   87.268215  76.693038\n",
      "10   5.301525  27.134136\n",
      "11   5.231141  33.841269\n",
      "12   5.318680  29.972205\n",
      "13   3.261449  29.549060\n",
      "14   4.804065  29.849601\n",
      "15   6.864379  28.416929\n",
      "16   3.429686  29.103061\n",
      "17   6.243558  30.727571\n",
      "18   2.797215  30.904263\n",
      "19   3.919043  31.331535\n",
      "20  25.969283  88.911375\n",
      "21  25.588296  87.917271\n",
      "22  26.256704  84.429628\n",
      "23  26.150447  89.653916\n",
      "24  28.407991  87.342034\n",
      "25  25.684477  88.197538\n",
      "26  26.279463  87.773167\n",
      "27  22.337090  89.417114\n",
      "28  30.618842  88.071545\n",
      "29  28.621166  90.880750\n",
      "30  30.642722  23.598352\n",
      "31  34.832635  26.021543\n",
      "32  30.505551  22.238091\n",
      "33  33.653500  26.017570\n",
      "34  32.764084  23.286877\n",
      "35  29.500812  23.684012\n",
      "36  31.374819  23.394373\n",
      "37  30.017901  25.108588\n",
      "38  34.740568  28.149659\n",
      "39  30.352935  25.915863\n",
      "40  15.507062  65.015513\n",
      "41  14.694991  65.511842\n",
      "42  13.039506  64.509586\n",
      "43   9.253972  63.418275\n",
      "44  10.171931  67.101825\n",
      "45   9.155959  63.312007\n",
      "46  12.695695  62.591515\n",
      "47  10.486740  68.482297\n",
      "48  11.411829  64.931409\n",
      "49  10.822789  67.059610\n"
     ]
    }
   ],
   "source": [
    "lst_objects = np.zeros((number_of_object*number_of_groups, 2))     #list of object which contain x, y coordinate\n",
    "\n",
    "lst_objects = coordinate_generator_object(lst_objects)\n",
    "\n",
    "objects = pd.DataFrame(lst_objects, columns =['x', 'y'])        #Load data groups in DataFrame object\n",
    "print(objects)"
   ]
  },
  {
   "attachments": {},
   "cell_type": "markdown",
   "metadata": {},
   "source": [
    "### Proces wyświetlania wygenerowanych danych na diagramie z użyciem biblioteki matplotlib\n",
    "- Funkcja <font color=yellow>createCircles(item, radius)</font>, do której przekazywane są konkretne koordynaty wygenerowanych grup danych oraz promień koła wykorzystywane są do określenia środka oraz promienia rysowanego okręgu. "
   ]
  },
  {
   "cell_type": "code",
   "execution_count": 303,
   "metadata": {},
   "outputs": [],
   "source": [
    "def  createCircles(centre, radius):\n",
    "    return plt.Circle((centre[0], centre[1]), radius, color='b', fill=False)"
   ]
  },
  {
   "cell_type": "code",
   "execution_count": 305,
   "metadata": {},
   "outputs": [
    {
     "name": "stdout",
     "output_type": "stream",
     "text": [
      "5\n"
     ]
    },
    {
     "data": {
      "image/png": "[encoded data removed]",
      "text/plain": [
       "<Figure size 1080x1080 with 1 Axes>"
      ]
     },
     "metadata": {
      "needs_background": "light"
     },
     "output_type": "display_data"
    }
   ],
   "source": [
    "# Creating a new figure \n",
    "fig, ax = plt.subplots(figsize=(15,15))\n",
    "\n",
    "# Numpy array as scatter plot\n",
    "plt.scatter(x=groups['x'],y=groups['y'])\n",
    "plt.scatter(x=objects['x'],y=objects['y'], color= '#f54272')\n",
    "\n",
    "print(len(lst_groups))\n",
    "\n",
    "for item in lst_groups:\n",
    "    ax.add_patch(createCircles(item, radius))\n",
    "\n",
    "# Adding details to the plot\n",
    "plt.title('Wykres generowanych grup i obiektów')\n",
    "plt.xlabel('x-axis')\n",
    "plt.ylabel('y-axis')\n",
    "\n",
    "# Displaying the plot\n",
    "plt.xlim(0,100)\n",
    "plt.ylim(0,100)\n",
    "plt.grid()\n",
    "plt.show()"
   ]
  }
 ],
 "metadata": {
  "kernelspec": {
   "display_name": "Python 3",
   "language": "python",
   "name": "python3"
  },
  "language_info": {
   "codemirror_mode": {
    "name": "ipython",
    "version": 3
   },
   "file_extension": ".py",
   "mimetype": "text/x-python",
   "name": "python",
   "nbconvert_exporter": "python",
   "pygments_lexer": "ipython3",
   "version": "3.10.5"
  },
  "orig_nbformat": 4,
  "vscode": {
   "interpreter": {
    "hash": "a0da10e4a676271bf4385554530c8fd043c8dca3e660087d92b854321367f38d"
   }
  }
 },
 "nbformat": 4,
 "nbformat_minor": 2
}
